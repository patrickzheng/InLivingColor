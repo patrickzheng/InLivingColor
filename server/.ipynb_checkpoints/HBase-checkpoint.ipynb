{
 "metadata": {
  "name": ""
 },
 "nbformat": 3,
 "nbformat_minor": 0,
 "worksheets": [
  {
   "cells": [
    {
     "cell_type": "code",
     "collapsed": false,
     "input": [
      "from starbase import Connection"
     ],
     "language": "python",
     "metadata": {},
     "outputs": [],
     "prompt_number": 1
    },
    {
     "cell_type": "code",
     "collapsed": false,
     "input": [
      "c = Connection()"
     ],
     "language": "python",
     "metadata": {},
     "outputs": [],
     "prompt_number": 2
    },
    {
     "cell_type": "code",
     "collapsed": false,
     "input": [
      "import happybase\n",
      "\n",
      "connection = happybase.Connection('localhost')\n"
     ],
     "language": "python",
     "metadata": {},
     "outputs": [],
     "prompt_number": 6
    },
    {
     "cell_type": "code",
     "collapsed": false,
     "input": [
      "print connection.tables()"
     ],
     "language": "python",
     "metadata": {},
     "outputs": [
      {
       "output_type": "stream",
       "stream": "stdout",
       "text": [
        "['FlickrSOT', 'mytable']\n"
       ]
      }
     ],
     "prompt_number": 7
    },
    {
     "cell_type": "code",
     "collapsed": false,
     "input": [
      "families = {\n",
      "        'collection': dict(),\n",
      "        'photoid': dict(),\n",
      "        'ImageJPG': dict(),\n",
      "        'InfoJSON': dict(),\n",
      "        'ExifJSON': dict(),\n",
      "    }\n",
      "connection.delete_table('FlickrSOT',disable=True)\n",
      "\n",
      "connection.create_table('FlickrSOT',families)"
     ],
     "language": "python",
     "metadata": {},
     "outputs": [],
     "prompt_number": 9
    },
    {
     "cell_type": "code",
     "collapsed": false,
     "input": [
      "table = connection.table('FlickrSOT')"
     ],
     "language": "python",
     "metadata": {},
     "outputs": [],
     "prompt_number": 10
    },
    {
     "cell_type": "code",
     "collapsed": false,
     "input": [
      "table.put('row-key', {'ImageJPG:': 'value1',\n",
      "                      'InfoJSON:': 'value2',\n",
      "                      'ExifJSON:': 'value3'})\n",
      "\n",
      "table.row('row-key')"
     ],
     "language": "python",
     "metadata": {},
     "outputs": [
      {
       "metadata": {},
       "output_type": "pyout",
       "prompt_number": 13,
       "text": [
        "{'ExifJSON:': 'value3', 'ImageJPG:': 'value1', 'InfoJSON:': 'value2'}"
       ]
      }
     ],
     "prompt_number": 13
    },
    {
     "cell_type": "code",
     "collapsed": false,
     "input": [],
     "language": "python",
     "metadata": {},
     "outputs": []
    }
   ],
   "metadata": {}
  }
 ]
}