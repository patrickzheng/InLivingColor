{
 "metadata": {
  "name": ""
 },
 "nbformat": 3,
 "nbformat_minor": 0,
 "worksheets": [
  {
   "cells": [
    {
     "cell_type": "code",
     "collapsed": false,
     "input": [
      "from ingest_photos import QueueIngestionByFlickrAPISearchQuery, SmartQueueIngestionByDateUploaded\n",
      "\n",
      "# Reload extensions on edit. Good for prototyping\n",
      "%load_ext autoreload\n",
      "%autoreload 2"
     ],
     "language": "python",
     "metadata": {},
     "outputs": [
      {
       "output_type": "stream",
       "stream": "stdout",
       "text": [
        "The autoreload extension is already loaded. To reload it, use:\n",
        "  %reload_ext autoreload\n"
       ]
      }
     ],
     "prompt_number": 81
    },
    {
     "cell_type": "code",
     "collapsed": false,
     "input": [
      "import time\n",
      "\n",
      "now = int(time.clock())\n",
      "\n",
      "float(time.time()) - 24*60*60\n",
      "\n",
      "query = dict(min_upload_date=time.strftime(\"%Y-%m-%d %H:%M:%S\",time.gmtime(adayago)),\n",
      "             max_upload_date=time.strftime(\"%Y-%m-%d %H:%M:%S\",time.gmtime(adayago+5*60)),\n",
      "            sort='date-posted-asc',\n",
      "             )\n",
      "photoids = QueueIngestionByFlickrAPISearchQuery('allrecent', query, dry_run=False, check_api_limit=False, limit_at_n=300)"
     ],
     "language": "python",
     "metadata": {},
     "outputs": [
      {
       "output_type": "stream",
       "stream": "stdout",
       "text": [
        "Initiating Flickr PhotoID Search (22060 results)\n",
        "(100 photoids so far)"
       ]
      },
      {
       "output_type": "stream",
       "stream": "stdout",
       "text": [
        "\n",
        "18226911293"
       ]
      },
      {
       "output_type": "stream",
       "stream": "stdout",
       "text": [
        " Tue Jun 16 02:28:31 2015\n",
        "18821296076"
       ]
      },
      {
       "output_type": "stream",
       "stream": "stdout",
       "text": [
        " Tue Jun 16 02:25:06 2015\n",
        "Downloading page 1/221 18226911293 ... 18821296076\n",
        "(200 photoids so far)"
       ]
      },
      {
       "output_type": "stream",
       "stream": "stdout",
       "text": [
        "\n",
        "18820957716"
       ]
      },
      {
       "output_type": "stream",
       "stream": "stdout",
       "text": [
        " Tue Jun 16 02:20:08 2015\n",
        "18821103066"
       ]
      },
      {
       "output_type": "stream",
       "stream": "stdout",
       "text": [
        " Tue Jun 16 02:25:35 2015\n",
        "Downloading page 2/221 18820957716 ... 18821103066\n",
        "(300 photoids so far)"
       ]
      },
      {
       "output_type": "stream",
       "stream": "stdout",
       "text": [
        "\n",
        "Sending Kafka Msg (topic=downloadbyphotoid2, key=18659643468, msg={\"photoid\": \"18659643468\", \"collection\": \"allrecent\"})\n",
        "Sending Kafka Msg (topic=downloadbyphotoid2, key=18847616355, msg={\"photoid\": \"18847616355\", \"collection\": \"allrecent\"})"
       ]
      },
      {
       "output_type": "stream",
       "stream": "stdout",
       "text": [
        "\n",
        "Sending Kafka Msg (topic=downloadbyphotoid2, key=18850074131, msg={\"photoid\": \"18850074131\", \"collection\": \"allrecent\"})"
       ]
      },
      {
       "output_type": "stream",
       "stream": "stdout",
       "text": [
        "\n",
        "Sending Kafka Msg (topic=downloadbyphotoid2, key=18820780346, msg={\"photoid\": \"18820780346\", \"collection\": \"allrecent\"})"
       ]
      },
      {
       "output_type": "stream",
       "stream": "stdout",
       "text": [
        "\n",
        "Sending Kafka Msg (topic=downloadbyphotoid2, key=18659325018, msg={\"photoid\": \"18659325018\", \"collection\": \"allrecent\"})"
       ]
      },
      {
       "output_type": "stream",
       "stream": "stdout",
       "text": [
        "\n",
        "Sending Kafka Msg (topic=downloadbyphotoid2, key=18821318286, msg={\"photoid\": \"18821318286\", \"collection\": \"allrecent\"})"
       ]
      },
      {
       "output_type": "stream",
       "stream": "stdout",
       "text": [
        "\n",
        "Sending Kafka Msg (topic=downloadbyphotoid2, key=18661403259, msg={\"photoid\": \"18661403259\", \"collection\": \"allrecent\"})"
       ]
      },
      {
       "output_type": "stream",
       "stream": "stdout",
       "text": [
        "\n",
        "Sending Kafka Msg (topic=downloadbyphotoid2, key=18847090875, msg={\"photoid\": \"18847090875\", \"collection\": \"allrecent\"})"
       ]
      },
      {
       "output_type": "stream",
       "stream": "stdout",
       "text": [
        "\n",
        "Sending Kafka Msg (topic=downloadbyphotoid2, key=18842453022, msg={\"photoid\": \"18842453022\", \"collection\": \"allrecent\"})"
       ]
      },
      {
       "output_type": "stream",
       "stream": "stdout",
       "text": [
        "\n",
        "Sending Kafka Msg (topic=downloadbyphotoid2, key=18226946513, msg={\"photoid\": \"18226946513\", \"collection\": \"allrecent\"})"
       ]
      },
      {
       "output_type": "stream",
       "stream": "stdout",
       "text": [
        "\n",
        "Sending Kafka Msg (topic=downloadbyphotoid2, key=18842458562, msg={\"photoid\": \"18842458562\", \"collection\": \"allrecent\"})"
       ]
      },
      {
       "output_type": "stream",
       "stream": "stdout",
       "text": [
        "\n",
        "Sending Kafka Msg (topic=downloadbyphotoid2, key=18659224370, msg={\"photoid\": \"18659224370\", \"collection\": \"allrecent\"})"
       ]
      },
      {
       "output_type": "stream",
       "stream": "stdout",
       "text": [
        "\n",
        "Sending Kafka Msg (topic=downloadbyphotoid2, key=18224597764, msg={\"photoid\": \"18224597764\", \"collection\": \"allrecent\"})"
       ]
      },
      {
       "output_type": "stream",
       "stream": "stdout",
       "text": [
        "\n",
        "Sending Kafka Msg (topic=downloadbyphotoid2, key=18659745120, msg={\"photoid\": \"18659745120\", \"collection\": \"allrecent\"})"
       ]
      },
      {
       "output_type": "stream",
       "stream": "stdout",
       "text": [
        "\n",
        "Sending Kafka Msg (topic=downloadbyphotoid2, key=18225033874, msg={\"photoid\": \"18225033874\", \"collection\": \"allrecent\"})"
       ]
      },
      {
       "output_type": "stream",
       "stream": "stdout",
       "text": [
        "\n",
        "Sending Kafka Msg (topic=downloadbyphotoid2, key=18226989753, msg={\"photoid\": \"18226989753\", \"collection\": \"allrecent\"})"
       ]
      },
      {
       "output_type": "stream",
       "stream": "stdout",
       "text": [
        "\n",
        "Sending Kafka Msg (topic=downloadbyphotoid2, key=18659755178, msg={\"photoid\": \"18659755178\", \"collection\": \"allrecent\"})"
       ]
      },
      {
       "output_type": "stream",
       "stream": "stdout",
       "text": [
        "\n",
        "Sending Kafka Msg (topic=downloadbyphotoid2, key=18842461432, msg={\"photoid\": \"18842461432\", \"collection\": \"allrecent\"})"
       ]
      },
      {
       "output_type": "stream",
       "stream": "stdout",
       "text": [
        "\n",
        "Sending Kafka Msg (topic=downloadbyphotoid2, key=18659914570, msg={\"photoid\": \"18659914570\", \"collection\": \"allrecent\"})"
       ]
      },
      {
       "output_type": "stream",
       "stream": "stdout",
       "text": [
        "\n",
        "Sending Kafka Msg (topic=downloadbyphotoid2, key=18842511182, msg={\"photoid\": \"18842511182\", \"collection\": \"allrecent\"})"
       ]
      },
      {
       "output_type": "stream",
       "stream": "stdout",
       "text": [
        "\n",
        "Sending Kafka Msg (topic=downloadbyphotoid2, key=18661476639, msg={\"photoid\": \"18661476639\", \"collection\": \"allrecent\"})"
       ]
      },
      {
       "output_type": "stream",
       "stream": "stdout",
       "text": [
        "\n",
        "Sending Kafka Msg (topic=downloadbyphotoid2, key=18224244154, msg={\"photoid\": \"18224244154\", \"collection\": \"allrecent\"})"
       ]
      },
      {
       "output_type": "stream",
       "stream": "stdout",
       "text": [
        "\n",
        "Sending Kafka Msg (topic=downloadbyphotoid2, key=18842500592, msg={\"photoid\": \"18842500592\", \"collection\": \"allrecent\"})"
       ]
      },
      {
       "output_type": "stream",
       "stream": "stdout",
       "text": [
        "\n",
        "Sending Kafka Msg (topic=downloadbyphotoid2, key=18842564442, msg={\"photoid\": \"18842564442\", \"collection\": \"allrecent\"})"
       ]
      },
      {
       "output_type": "stream",
       "stream": "stdout",
       "text": [
        "\n",
        "Sending Kafka Msg (topic=downloadbyphotoid2, key=18659282938, msg={\"photoid\": \"18659282938\", \"collection\": \"allrecent\"})"
       ]
      },
      {
       "output_type": "stream",
       "stream": "stdout",
       "text": [
        "\n",
        "Sending Kafka Msg (topic=downloadbyphotoid2, key=18821171716, msg={\"photoid\": \"18821171716\", \"collection\": \"allrecent\"})"
       ]
      },
      {
       "output_type": "stream",
       "stream": "stdout",
       "text": [
        "\n",
        "Sending Kafka Msg (topic=downloadbyphotoid2, key=18226543393, msg={\"photoid\": \"18226543393\", \"collection\": \"allrecent\"})"
       ]
      },
      {
       "output_type": "stream",
       "stream": "stdout",
       "text": [
        "\n",
        "Sending Kafka Msg (topic=downloadbyphotoid2, key=18658297798, msg={\"photoid\": \"18658297798\", \"collection\": \"allrecent\"})"
       ]
      },
      {
       "output_type": "stream",
       "stream": "stdout",
       "text": [
        "\n",
        "Sending Kafka Msg (topic=downloadbyphotoid2, key=18821174756, msg={\"photoid\": \"18821174756\", \"collection\": \"allrecent\"})"
       ]
      },
      {
       "output_type": "stream",
       "stream": "stdout",
       "text": [
        "\n",
        "Sending Kafka Msg (topic=downloadbyphotoid2, key=18847430725, msg={\"photoid\": \"18847430725\", \"collection\": \"allrecent\"})"
       ]
      },
      {
       "output_type": "stream",
       "stream": "stdout",
       "text": [
        "\n",
        "Sending Kafka Msg (topic=downloadbyphotoid2, key=18224806104, msg={\"photoid\": \"18224806104\", \"collection\": \"allrecent\"})"
       ]
      },
      {
       "output_type": "stream",
       "stream": "stdout",
       "text": [
        "\n",
        "Sending Kafka Msg (topic=downloadbyphotoid2, key=18226847373, msg={\"photoid\": \"18226847373\", \"collection\": \"allrecent\"})"
       ]
      },
      {
       "output_type": "stream",
       "stream": "stdout",
       "text": [
        "\n",
        "Sending Kafka Msg (topic=downloadbyphotoid2, key=18226806703, msg={\"photoid\": \"18226806703\", \"collection\": \"allrecent\"})"
       ]
      },
      {
       "output_type": "stream",
       "stream": "stdout",
       "text": [
        "\n",
        "Sending Kafka Msg (topic=downloadbyphotoid2, key=18850124311, msg={\"photoid\": \"18850124311\", \"collection\": \"allrecent\"})"
       ]
      },
      {
       "output_type": "stream",
       "stream": "stdout",
       "text": [
        "\n",
        "Sending Kafka Msg (topic=downloadbyphotoid2, key=18659729350, msg={\"photoid\": \"18659729350\", \"collection\": \"allrecent\"})"
       ]
      },
      {
       "output_type": "stream",
       "stream": "stdout",
       "text": [
        "\n",
        "Sending Kafka Msg (topic=downloadbyphotoid2, key=18850073871, msg={\"photoid\": \"18850073871\", \"collection\": \"allrecent\"})"
       ]
      },
      {
       "output_type": "stream",
       "stream": "stdout",
       "text": [
        "\n",
        "Sending Kafka Msg (topic=downloadbyphotoid2, key=18219873243, msg={\"photoid\": \"18219873243\", \"collection\": \"allrecent\"})"
       ]
      },
      {
       "output_type": "stream",
       "stream": "stdout",
       "text": [
        "\n",
        "Sending Kafka Msg (topic=downloadbyphotoid2, key=18835412342, msg={\"photoid\": \"18835412342\", \"collection\": \"allrecent\"})"
       ]
      },
      {
       "output_type": "stream",
       "stream": "stdout",
       "text": [
        "\n",
        "Sending Kafka Msg (topic=downloadbyphotoid2, key=18814592106, msg={\"photoid\": \"18814592106\", \"collection\": \"allrecent\"})"
       ]
      },
      {
       "output_type": "stream",
       "stream": "stdout",
       "text": [
        "\n",
        "Sending Kafka Msg (topic=downloadbyphotoid2, key=18659612870, msg={\"photoid\": \"18659612870\", \"collection\": \"allrecent\"})"
       ]
      },
      {
       "output_type": "stream",
       "stream": "stdout",
       "text": [
        "\n",
        "Sending Kafka Msg (topic=downloadbyphotoid2, key=18224889754, msg={\"photoid\": \"18224889754\", \"collection\": \"allrecent\"})"
       ]
      },
      {
       "output_type": "stream",
       "stream": "stdout",
       "text": [
        "\n",
        "Sending Kafka Msg (topic=downloadbyphotoid2, key=18661312019, msg={\"photoid\": \"18661312019\", \"collection\": \"allrecent\"})"
       ]
      },
      {
       "output_type": "stream",
       "stream": "stdout",
       "text": [
        "\n",
        "Sending Kafka Msg (topic=downloadbyphotoid2, key=18226771063, msg={\"photoid\": \"18226771063\", \"collection\": \"allrecent\"})"
       ]
      },
      {
       "output_type": "stream",
       "stream": "stdout",
       "text": [
        "\n",
        "Sending Kafka Msg (topic=downloadbyphotoid2, key=18820657976, msg={\"photoid\": \"18820657976\", \"collection\": \"allrecent\"})"
       ]
      },
      {
       "output_type": "stream",
       "stream": "stdout",
       "text": [
        "\n",
        "Sending Kafka Msg (topic=downloadbyphotoid2, key=18850224351, msg={\"photoid\": \"18850224351\", \"collection\": \"allrecent\"})"
       ]
      },
      {
       "output_type": "stream",
       "stream": "stdout",
       "text": [
        "\n",
        "Sending Kafka Msg (topic=downloadbyphotoid2, key=18226985813, msg={\"photoid\": \"18226985813\", \"collection\": \"allrecent\"})"
       ]
      },
      {
       "output_type": "stream",
       "stream": "stdout",
       "text": [
        "\n",
        "Sending Kafka Msg (topic=downloadbyphotoid2, key=18842503932, msg={\"photoid\": \"18842503932\", \"collection\": \"allrecent\"})"
       ]
      },
      {
       "output_type": "stream",
       "stream": "stdout",
       "text": [
        "\n",
        "Sending Kafka Msg (topic=downloadbyphotoid2, key=18842516562, msg={\"photoid\": \"18842516562\", \"collection\": \"allrecent\"})"
       ]
      },
      {
       "output_type": "stream",
       "stream": "stdout",
       "text": [
        "\n",
        "Sending Kafka Msg (topic=downloadbyphotoid2, key=18224623354, msg={\"photoid\": \"18224623354\", \"collection\": \"allrecent\"})"
       ]
      },
      {
       "output_type": "stream",
       "stream": "stdout",
       "text": [
        "\n",
        "Sending Kafka Msg (topic=downloadbyphotoid2, key=18224753444, msg={\"photoid\": \"18224753444\", \"collection\": \"allrecent\"})"
       ]
      },
      {
       "output_type": "stream",
       "stream": "stdout",
       "text": [
        "\n",
        "Sending Kafka Msg (topic=downloadbyphotoid2, key=18661259109, msg={\"photoid\": \"18661259109\", \"collection\": \"allrecent\"})"
       ]
      },
      {
       "output_type": "stream",
       "stream": "stdout",
       "text": [
        "\n",
        "Sending Kafka Msg (topic=downloadbyphotoid2, key=18224786934, msg={\"photoid\": \"18224786934\", \"collection\": \"allrecent\"})"
       ]
      },
      {
       "output_type": "stream",
       "stream": "stdout",
       "text": [
        "\n",
        "Sending Kafka Msg (topic=downloadbyphotoid2, key=18226957853, msg={\"photoid\": \"18226957853\", \"collection\": \"allrecent\"})"
       ]
      },
      {
       "output_type": "stream",
       "stream": "stdout",
       "text": [
        "\n",
        "Sending Kafka Msg (topic=downloadbyphotoid2, key=18821142636, msg={\"photoid\": \"18821142636\", \"collection\": \"allrecent\"})"
       ]
      },
      {
       "output_type": "stream",
       "stream": "stdout",
       "text": [
        "\n",
        "Sending Kafka Msg (topic=downloadbyphotoid2, key=18659844238, msg={\"photoid\": \"18659844238\", \"collection\": \"allrecent\"})"
       ]
      },
      {
       "output_type": "stream",
       "stream": "stdout",
       "text": [
        "\n",
        "Sending Kafka Msg (topic=downloadbyphotoid2, key=18659867960, msg={\"photoid\": \"18659867960\", \"collection\": \"allrecent\"})"
       ]
      },
      {
       "output_type": "stream",
       "stream": "stdout",
       "text": [
        "\n",
        "Sending Kafka Msg (topic=downloadbyphotoid2, key=18842485552, msg={\"photoid\": \"18842485552\", \"collection\": \"allrecent\"})"
       ]
      },
      {
       "output_type": "stream",
       "stream": "stdout",
       "text": [
        "\n",
        "Sending Kafka Msg (topic=downloadbyphotoid2, key=18847603885, msg={\"photoid\": \"18847603885\", \"collection\": \"allrecent\"})"
       ]
      },
      {
       "output_type": "stream",
       "stream": "stdout",
       "text": [
        "\n",
        "Sending Kafka Msg (topic=downloadbyphotoid2, key=18226558823, msg={\"photoid\": \"18226558823\", \"collection\": \"allrecent\"})"
       ]
      },
      {
       "output_type": "stream",
       "stream": "stdout",
       "text": [
        "\n",
        "Sending Kafka Msg (topic=downloadbyphotoid2, key=18224865084, msg={\"photoid\": \"18224865084\", \"collection\": \"allrecent\"})"
       ]
      },
      {
       "output_type": "stream",
       "stream": "stdout",
       "text": [
        "\n",
        "Sending Kafka Msg (topic=downloadbyphotoid2, key=18821336106, msg={\"photoid\": \"18821336106\", \"collection\": \"allrecent\"})"
       ]
      },
      {
       "output_type": "stream",
       "stream": "stdout",
       "text": [
        "\n",
        "Sending Kafka Msg (topic=downloadbyphotoid2, key=18225456523, msg={\"photoid\": \"18225456523\", \"collection\": \"allrecent\"})"
       ]
      },
      {
       "output_type": "stream",
       "stream": "stdout",
       "text": [
        "\n",
        "Sending Kafka Msg (topic=downloadbyphotoid2, key=18224370694, msg={\"photoid\": \"18224370694\", \"collection\": \"allrecent\"})"
       ]
      },
      {
       "output_type": "stream",
       "stream": "stdout",
       "text": [
        "\n",
        "Sending Kafka Msg (topic=downloadbyphotoid2, key=18226895713, msg={\"photoid\": \"18226895713\", \"collection\": \"allrecent\"})"
       ]
      },
      {
       "output_type": "stream",
       "stream": "stdout",
       "text": [
        "\n",
        "Sending Kafka Msg (topic=downloadbyphotoid2, key=18821194296, msg={\"photoid\": \"18821194296\", \"collection\": \"allrecent\"})"
       ]
      },
      {
       "output_type": "stream",
       "stream": "stdout",
       "text": [
        "\n",
        "Sending Kafka Msg (topic=downloadbyphotoid2, key=18226949753, msg={\"photoid\": \"18226949753\", \"collection\": \"allrecent\"})"
       ]
      },
      {
       "output_type": "stream",
       "stream": "stdout",
       "text": [
        "\n",
        "Sending Kafka Msg (topic=downloadbyphotoid2, key=18224235244, msg={\"photoid\": \"18224235244\", \"collection\": \"allrecent\"})"
       ]
      },
      {
       "output_type": "stream",
       "stream": "stdout",
       "text": [
        "\n",
        "Sending Kafka Msg (topic=downloadbyphotoid2, key=18821389686, msg={\"photoid\": \"18821389686\", \"collection\": \"allrecent\"})"
       ]
      },
      {
       "output_type": "stream",
       "stream": "stdout",
       "text": [
        "\n",
        "Sending Kafka Msg (topic=downloadbyphotoid2, key=18226857983, msg={\"photoid\": \"18226857983\", \"collection\": \"allrecent\"})"
       ]
      },
      {
       "output_type": "stream",
       "stream": "stdout",
       "text": [
        "\n",
        "Sending Kafka Msg (topic=downloadbyphotoid2, key=18847454965, msg={\"photoid\": \"18847454965\", \"collection\": \"allrecent\"})"
       ]
      },
      {
       "output_type": "stream",
       "stream": "stdout",
       "text": [
        "\n",
        "Sending Kafka Msg (topic=downloadbyphotoid2, key=18850171701, msg={\"photoid\": \"18850171701\", \"collection\": \"allrecent\"})"
       ]
      },
      {
       "output_type": "stream",
       "stream": "stdout",
       "text": [
        "\n",
        "Sending Kafka Msg (topic=downloadbyphotoid2, key=18659765080, msg={\"photoid\": \"18659765080\", \"collection\": \"allrecent\"})"
       ]
      },
      {
       "output_type": "stream",
       "stream": "stdout",
       "text": [
        "\n",
        "Sending Kafka Msg (topic=downloadbyphotoid2, key=18659706648, msg={\"photoid\": \"18659706648\", \"collection\": \"allrecent\"})"
       ]
      },
      {
       "output_type": "stream",
       "stream": "stdout",
       "text": [
        "\n",
        "Sending Kafka Msg (topic=downloadbyphotoid2, key=18661139429, msg={\"photoid\": \"18661139429\", \"collection\": \"allrecent\"})"
       ]
      },
      {
       "output_type": "stream",
       "stream": "stdout",
       "text": [
        "\n",
        "Sending Kafka Msg (topic=downloadbyphotoid2, key=18661041429, msg={\"photoid\": \"18661041429\", \"collection\": \"allrecent\"})"
       ]
      },
      {
       "output_type": "stream",
       "stream": "stdout",
       "text": [
        "\n",
        "Sending Kafka Msg (topic=downloadbyphotoid2, key=18821211436, msg={\"photoid\": \"18821211436\", \"collection\": \"allrecent\"})"
       ]
      },
      {
       "output_type": "stream",
       "stream": "stdout",
       "text": [
        "\n",
        "Sending Kafka Msg (topic=downloadbyphotoid2, key=18847323615, msg={\"photoid\": \"18847323615\", \"collection\": \"allrecent\"})"
       ]
      },
      {
       "output_type": "stream",
       "stream": "stdout",
       "text": [
        "\n",
        "Sending Kafka Msg (topic=downloadbyphotoid2, key=18224928564, msg={\"photoid\": \"18224928564\", \"collection\": \"allrecent\"})"
       ]
      },
      {
       "output_type": "stream",
       "stream": "stdout",
       "text": [
        "\n",
        "Sending Kafka Msg (topic=downloadbyphotoid2, key=18842322892, msg={\"photoid\": \"18842322892\", \"collection\": \"allrecent\"})"
       ]
      },
      {
       "output_type": "stream",
       "stream": "stdout",
       "text": [
        "\n",
        "Sending Kafka Msg (topic=downloadbyphotoid2, key=18659715798, msg={\"photoid\": \"18659715798\", \"collection\": \"allrecent\"})"
       ]
      },
      {
       "output_type": "stream",
       "stream": "stdout",
       "text": [
        "\n",
        "Sending Kafka Msg (topic=downloadbyphotoid2, key=18820640476, msg={\"photoid\": \"18820640476\", \"collection\": \"allrecent\"})"
       ]
      },
      {
       "output_type": "stream",
       "stream": "stdout",
       "text": [
        "\n",
        "Sending Kafka Msg (topic=downloadbyphotoid2, key=18850188921, msg={\"photoid\": \"18850188921\", \"collection\": \"allrecent\"})"
       ]
      },
      {
       "output_type": "stream",
       "stream": "stdout",
       "text": [
        "\n",
        "Sending Kafka Msg (topic=downloadbyphotoid2, key=18226911713, msg={\"photoid\": \"18226911713\", \"collection\": \"allrecent\"})"
       ]
      },
      {
       "output_type": "stream",
       "stream": "stdout",
       "text": [
        "\n",
        "Sending Kafka Msg (topic=downloadbyphotoid2, key=18661350809, msg={\"photoid\": \"18661350809\", \"collection\": \"allrecent\"})"
       ]
      },
      {
       "output_type": "stream",
       "stream": "stdout",
       "text": [
        "\n",
        "Sending Kafka Msg (topic=downloadbyphotoid2, key=18850253351, msg={\"photoid\": \"18850253351\", \"collection\": \"allrecent\"})"
       ]
      },
      {
       "output_type": "stream",
       "stream": "stdout",
       "text": [
        "\n",
        "Sending Kafka Msg (topic=downloadbyphotoid2, key=18821259306, msg={\"photoid\": \"18821259306\", \"collection\": \"allrecent\"})"
       ]
      },
      {
       "output_type": "stream",
       "stream": "stdout",
       "text": [
        "\n",
        "Sending Kafka Msg (topic=downloadbyphotoid2, key=18844180391, msg={\"photoid\": \"18844180391\", \"collection\": \"allrecent\"})"
       ]
      },
      {
       "output_type": "stream",
       "stream": "stdout",
       "text": [
        "\n",
        "Sending Kafka Msg (topic=downloadbyphotoid2, key=18847537185, msg={\"photoid\": \"18847537185\", \"collection\": \"allrecent\"})"
       ]
      },
      {
       "output_type": "stream",
       "stream": "stdout",
       "text": [
        "\n",
        "Sending Kafka Msg (topic=downloadbyphotoid2, key=18660744529, msg={\"photoid\": \"18660744529\", \"collection\": \"allrecent\"})"
       ]
      },
      {
       "output_type": "stream",
       "stream": "stdout",
       "text": [
        "\n",
        "Sending Kafka Msg (topic=downloadbyphotoid2, key=18226632203, msg={\"photoid\": \"18226632203\", \"collection\": \"allrecent\"})"
       ]
      },
      {
       "output_type": "stream",
       "stream": "stdout",
       "text": [
        "\n",
        "Sending Kafka Msg (topic=downloadbyphotoid2, key=18226869183, msg={\"photoid\": \"18226869183\", \"collection\": \"allrecent\"})"
       ]
      },
      {
       "output_type": "stream",
       "stream": "stdout",
       "text": [
        "\n",
        "Sending Kafka Msg (topic=downloadbyphotoid2, key=18661049359, msg={\"photoid\": \"18661049359\", \"collection\": \"allrecent\"})"
       ]
      },
      {
       "output_type": "stream",
       "stream": "stdout",
       "text": [
        "\n",
        "Sending Kafka Msg (topic=downloadbyphotoid2, key=18842336352, msg={\"photoid\": \"18842336352\", \"collection\": \"allrecent\"})"
       ]
      },
      {
       "output_type": "stream",
       "stream": "stdout",
       "text": [
        "\n",
        "Sending Kafka Msg (topic=downloadbyphotoid2, key=18842426902, msg={\"photoid\": \"18842426902\", \"collection\": \"allrecent\"})"
       ]
      },
      {
       "output_type": "stream",
       "stream": "stdout",
       "text": [
        "\n",
        "Sending Kafka Msg (topic=downloadbyphotoid2, key=18224806834, msg={\"photoid\": \"18224806834\", \"collection\": \"allrecent\"})"
       ]
      },
      {
       "output_type": "stream",
       "stream": "stdout",
       "text": [
        "\n",
        "Sending Kafka Msg (topic=downloadbyphotoid2, key=18841925062, msg={\"photoid\": \"18841925062\", \"collection\": \"allrecent\"})"
       ]
      },
      {
       "output_type": "stream",
       "stream": "stdout",
       "text": [
        "\n",
        "Sending Kafka Msg (topic=downloadbyphotoid2, key=18842438852, msg={\"photoid\": \"18842438852\", \"collection\": \"allrecent\"})"
       ]
      },
      {
       "output_type": "stream",
       "stream": "stdout",
       "text": [
        "\n",
        "Sending Kafka Msg (topic=downloadbyphotoid2, key=18226762153, msg={\"photoid\": \"18226762153\", \"collection\": \"allrecent\"})"
       ]
      },
      {
       "output_type": "stream",
       "stream": "stdout",
       "text": [
        "\n",
        "Sending Kafka Msg (topic=downloadbyphotoid2, key=18821216466, msg={\"photoid\": \"18821216466\", \"collection\": \"allrecent\"})"
       ]
      },
      {
       "output_type": "stream",
       "stream": "stdout",
       "text": [
        "\n",
        "Sending Kafka Msg (topic=downloadbyphotoid2, key=18226927683, msg={\"photoid\": \"18226927683\", \"collection\": \"allrecent\"})"
       ]
      },
      {
       "output_type": "stream",
       "stream": "stdout",
       "text": [
        "\n"
       ]
      },
      {
       "metadata": {},
       "output_type": "pyout",
       "prompt_number": 83,
       "text": [
        "['18226911293',\n",
        " '18659860330',\n",
        " '18850227801',\n",
        " '18850216191',\n",
        " '18849281071',\n",
        " '18659885300',\n",
        " '18842482612',\n",
        " '18225021004',\n",
        " '18821097196',\n",
        " '18842423792',\n",
        " '18842472962',\n",
        " '18226838723',\n",
        " '18226772943',\n",
        " '18847242905',\n",
        " '18847588905',\n",
        " '18661012529',\n",
        " '18659827698',\n",
        " '18224658854',\n",
        " '18846830905',\n",
        " '18850286821',\n",
        " '18659869600',\n",
        " '18224475734',\n",
        " '18661387419',\n",
        " '18841777632',\n",
        " '18821087066',\n",
        " '18224881144',\n",
        " '18821399566',\n",
        " '18850262911',\n",
        " '18659760448',\n",
        " '18849524971',\n",
        " '18841986782',\n",
        " '18841793132',\n",
        " '18225043884',\n",
        " '18226949423',\n",
        " '18661326009',\n",
        " '18659583840',\n",
        " '18226880263',\n",
        " '18840750212',\n",
        " '18659862548',\n",
        " '18224985634',\n",
        " '18661446389',\n",
        " '18847249855',\n",
        " '18849954251',\n",
        " '18660392559',\n",
        " '18659504188',\n",
        " '18226812163',\n",
        " '18820776926',\n",
        " '18224828394',\n",
        " '18659759230',\n",
        " '18847398835',\n",
        " '18657931550',\n",
        " '18850181531',\n",
        " '18847384355',\n",
        " '18847439725',\n",
        " '18226632253',\n",
        " '18849360031',\n",
        " '18850164931',\n",
        " '18226814093',\n",
        " '18842315032',\n",
        " '18821194726',\n",
        " '18821110666',\n",
        " '18661009539',\n",
        " '18658892438',\n",
        " '18842210862',\n",
        " '18224839564',\n",
        " '18850130451',\n",
        " '18226506923',\n",
        " '18850269341',\n",
        " '18659778610',\n",
        " '18842304502',\n",
        " '18224814384',\n",
        " '18821118196',\n",
        " '18224912904',\n",
        " '18659741518',\n",
        " '18814509496',\n",
        " '18226823223',\n",
        " '18659567430',\n",
        " '18661355679',\n",
        " '18224938654',\n",
        " '18659677090',\n",
        " '18659607238',\n",
        " '18659466818',\n",
        " '18226864163',\n",
        " '18842087022',\n",
        " '18226939743',\n",
        " '18224935474',\n",
        " '18226275753',\n",
        " '18842432402',\n",
        " '18659844040',\n",
        " '18850298591',\n",
        " '18659317840',\n",
        " '18821272756',\n",
        " '18659740930',\n",
        " '18659696458',\n",
        " '18847353115',\n",
        " '18821214176',\n",
        " '18224468964',\n",
        " '18661234989',\n",
        " '18224943214',\n",
        " '18821296076',\n",
        " '18820957716',\n",
        " '18842161872',\n",
        " '18659706190',\n",
        " '18850119031',\n",
        " '18659639728',\n",
        " '18658712300',\n",
        " '18226760313',\n",
        " '18847467545',\n",
        " '18850175191',\n",
        " '18821198246',\n",
        " '18661287839',\n",
        " '18659849248',\n",
        " '18659877690',\n",
        " '18850150971',\n",
        " '18659801530',\n",
        " '18226588623',\n",
        " '18659625488',\n",
        " '18224729664',\n",
        " '18226746553',\n",
        " '18821108706',\n",
        " '18847264015',\n",
        " '18659828730',\n",
        " '18224947914',\n",
        " '18850250311',\n",
        " '18821298466',\n",
        " '18659510698',\n",
        " '18850142891',\n",
        " '18847468565',\n",
        " '18850288711',\n",
        " '18821282586',\n",
        " '18224995424',\n",
        " '18659719548',\n",
        " '18659741368',\n",
        " '18821315266',\n",
        " '18849750821',\n",
        " '18659082058',\n",
        " '18226307233',\n",
        " '18849657631',\n",
        " '18224571734',\n",
        " '18659814698',\n",
        " '18850272911',\n",
        " '18659859370',\n",
        " '18850271801',\n",
        " '18847499105',\n",
        " '18661386149',\n",
        " '18661382529',\n",
        " '18661363589',\n",
        " '18842421932',\n",
        " '18225026514',\n",
        " '18821289376',\n",
        " '18661462509',\n",
        " '18659833888',\n",
        " '18850340051',\n",
        " '18224984874',\n",
        " '18224123514',\n",
        " '18849935601',\n",
        " '18821289026',\n",
        " '18847602735',\n",
        " '18821352606',\n",
        " '18850279121',\n",
        " '18224731044',\n",
        " '18850036181',\n",
        " '18850275981',\n",
        " '18226948413',\n",
        " '18842068852',\n",
        " '18223974554',\n",
        " '18847467595',\n",
        " '18659654528',\n",
        " '18841848452',\n",
        " '18661280279',\n",
        " '18224856704',\n",
        " '18226806753',\n",
        " '18842385582',\n",
        " '18659725158',\n",
        " '18659718930',\n",
        " '18821204126',\n",
        " '18224684944',\n",
        " '18226846183',\n",
        " '18661303319',\n",
        " '18850252751',\n",
        " '18821296926',\n",
        " '18660957959',\n",
        " '18224666494',\n",
        " '18659451328',\n",
        " '18661099109',\n",
        " '18661242749',\n",
        " '18659786760',\n",
        " '18849392261',\n",
        " '18224739774',\n",
        " '18849979071',\n",
        " '18847278045',\n",
        " '18655230689',\n",
        " '18842991511',\n",
        " '18218747794',\n",
        " '18659773448',\n",
        " '18850226891',\n",
        " '18842407632',\n",
        " '18821229326',\n",
        " '18661461239',\n",
        " '18821103066']"
       ]
      }
     ],
     "prompt_number": 83
    },
    {
     "cell_type": "code",
     "collapsed": false,
     "input": [
      "time.ctime(1388563338)"
     ],
     "language": "python",
     "metadata": {},
     "outputs": [
      {
       "metadata": {},
       "output_type": "pyout",
       "prompt_number": 14,
       "text": [
        "'Wed Jan  1 08:02:18 2014'"
       ]
      },
      {
       "output_type": "stream",
       "stream": "stdout",
       "text": [
        "\n"
       ]
      }
     ],
     "prompt_number": 14
    },
    {
     "cell_type": "code",
     "collapsed": false,
     "input": [
      "timestamp = int(time.time())\n",
      "print timestamp"
     ],
     "language": "python",
     "metadata": {},
     "outputs": [
      {
       "output_type": "stream",
       "stream": "stdout",
       "text": [
        "1434481143\n"
       ]
      }
     ],
     "prompt_number": 47
    },
    {
     "cell_type": "code",
     "collapsed": false,
     "input": [
      "adayago = float(time.time()) - 24*60*60\n",
      "\n",
      "SmartQueueIngestionByDateUploaded('allrecent', adayago, dry_run=True)\n"
     ],
     "language": "python",
     "metadata": {},
     "outputs": [
      {
       "output_type": "stream",
       "stream": "stdout",
       "text": [
        "{0: None, 1: None, 2: None, 3: None, 4: None}\n"
       ]
      }
     ],
     "prompt_number": 76
    },
    {
     "cell_type": "code",
     "collapsed": false,
     "input": [
      "a = []"
     ],
     "language": "python",
     "metadata": {},
     "outputs": [],
     "prompt_number": 79
    },
    {
     "cell_type": "code",
     "collapsed": false,
     "input": [
      "a."
     ],
     "language": "python",
     "metadata": {},
     "outputs": [
      {
       "ename": "SyntaxError",
       "evalue": "unexpected EOF while parsing (<ipython-input-80-636e213b762f>, line 1)",
       "output_type": "pyerr",
       "traceback": [
        "\u001b[0;36m  File \u001b[0;32m\"<ipython-input-80-636e213b762f>\"\u001b[0;36m, line \u001b[0;32m1\u001b[0m\n\u001b[0;31m    a.pop(\u001b[0m\n\u001b[0m          ^\u001b[0m\n\u001b[0;31mSyntaxError\u001b[0m\u001b[0;31m:\u001b[0m unexpected EOF while parsing\n"
       ]
      }
     ],
     "prompt_number": 80
    },
    {
     "cell_type": "code",
     "collapsed": false,
     "input": [],
     "language": "python",
     "metadata": {},
     "outputs": []
    }
   ],
   "metadata": {}
  }
 ]
}