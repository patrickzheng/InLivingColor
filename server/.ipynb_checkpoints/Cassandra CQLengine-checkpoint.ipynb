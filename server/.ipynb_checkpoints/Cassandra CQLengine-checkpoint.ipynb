{
 "metadata": {
  "name": ""
 },
 "nbformat": 3,
 "nbformat_minor": 0,
 "worksheets": [
  {
   "cells": [
    {
     "cell_type": "code",
     "collapsed": false,
     "input": [
      "from cqlengine import columns\n",
      "from cqlengine.models import Model"
     ],
     "language": "python",
     "metadata": {},
     "outputs": [],
     "prompt_number": 1
    },
    {
     "cell_type": "code",
     "collapsed": false,
     "input": [
      "# Define a model\n",
      "class FlickrSOT(Model):\n",
      "    collection = columns.Text(primary_key=True)\n",
      "    photoid = columns.Text(primary_key=True)\n",
      "    ImageJPG = columns.Blob()\n",
      "    InfoJSON = columns.Text()\n",
      "    ExifJSON = columns.Text()\n",
      "    def __repr__(self):\n",
      "        return '<FlickrSOT: %s %s>' % (self.collection, self.photoid)"
     ],
     "language": "python",
     "metadata": {},
     "outputs": [],
     "prompt_number": 3
    },
    {
     "cell_type": "code",
     "collapsed": false,
     "input": [
      "from cqlengine import connection"
     ],
     "language": "python",
     "metadata": {},
     "outputs": [],
     "prompt_number": 4
    },
    {
     "cell_type": "code",
     "collapsed": false,
     "input": [
      "# Connect to the demo keyspace on our cluster running at 127.0.0.1\n",
      "connection.setup(['127.0.0.1'], \"inlivingcolor\")"
     ],
     "language": "python",
     "metadata": {},
     "outputs": [],
     "prompt_number": 5
    },
    {
     "cell_type": "code",
     "collapsed": false,
     "input": [
      "from cqlengine.management import sync_table"
     ],
     "language": "python",
     "metadata": {},
     "outputs": [],
     "prompt_number": 6
    },
    {
     "cell_type": "code",
     "collapsed": false,
     "input": [
      "sync_table(FlickrSOT)"
     ],
     "language": "python",
     "metadata": {},
     "outputs": [],
     "prompt_number": 7
    },
    {
     "cell_type": "code",
     "collapsed": false,
     "input": [],
     "language": "python",
     "metadata": {},
     "outputs": []
    }
   ],
   "metadata": {}
  }
 ]
}